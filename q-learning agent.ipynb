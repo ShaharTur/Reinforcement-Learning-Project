{
 "cells": [
  {
   "cell_type": "code",
   "execution_count": 1,
   "id": "e8bcfc0a",
   "metadata": {},
   "outputs": [
    {
     "name": "stdout",
     "output_type": "stream",
     "text": [
      "pygame 2.1.2 (SDL 2.0.18, Python 3.10.2)\n",
      "Hello from the pygame community. https://www.pygame.org/contribute.html\n"
     ]
    }
   ],
   "source": [
    "from Maze import Maze\n",
    "import numpy as np\n",
    "import random\n",
    "import pygame\n",
    "import sys\n",
    "import matplotlib.pyplot as plt\n",
    "import pandas as pd\n"
   ]
  },
  {
   "cell_type": "markdown",
   "id": "c287edae",
   "metadata": {},
   "source": [
    "### קריאה לסביבה שיצרנו "
   ]
  },
  {
   "cell_type": "code",
   "execution_count": 2,
   "id": "224ec8ba",
   "metadata": {},
   "outputs": [],
   "source": [
    "env = Maze()\n",
    "possible_num_state = 189# ספרנו את כל הסטייטים האפשריים במבוכים שיצרנו בהמשך והחסרנו אחד כי בפייתון אנחנו מתחילים מ 0\n",
    "action_space = 4 # ימינה שמאלה למעלה למטה"
   ]
  },
  {
   "cell_type": "markdown",
   "id": "5a064621",
   "metadata": {},
   "source": [
    "#### Q-tableפונקציות של ה\n",
    "####  פונקציות של המדיניות ,של האימון ושל הדגמה ויזואלית של הסוכן ושל הגרף"
   ]
  },
  {
   "cell_type": "code",
   "execution_count": 3,
   "id": "967bb1a9",
   "metadata": {},
   "outputs": [],
   "source": [
    "def create_qtable(possible_num_state,action_space):\n",
    "    Qtable = np.zeros((possible_num_state,action_space)) # בהתחלה הטבלה מתחילה עם אפסים ואז מתעדכנת לערכים של Q\n",
    "    return Qtable\n",
    "\n",
    "\n",
    "def greedy_policy(Qtable,state):\n",
    "    action = np.argmax(Qtable[state][:]) #יצירת מדיניות חמדנית שלוקחת את הערך הכי גבוה באותו הסטייט בטבלה\n",
    "\n",
    "    return action\n",
    "\n",
    "def epsilon_greedy_policy(Qtable, state, epsilon): # אם האפסילון גדול חוקרים יותר ועושים פעולות רנדומליות ,אם הוא קטן עושים ניצול לידע הקיים \n",
    " \n",
    "  random_num = random.random()\n",
    "  \n",
    "  if random_num > epsilon:\n",
    "    \n",
    "    action =greedy_policy(Qtable,state)\n",
    "  \n",
    "  else:\n",
    "    action = random.randint(0, 3)\n",
    "\n",
    "  return action\n",
    "\n",
    "\n",
    "\n"
   ]
  },
  {
   "cell_type": "code",
   "execution_count": 4,
   "id": "195d6b9f",
   "metadata": {},
   "outputs": [],
   "source": [
    "def train(n_training_episodes, min_epsilon, max_epsilon, decay_rate, env, max_steps,learning_rate,gamma, Qtable):\n",
    "    total_rewards_per_episode = [] # פה עשינו את זה נטו לגרף ,כדי שנוכל לעשות פלוט לגרף למטה\n",
    "\n",
    "    for episode in range(n_training_episodes):\n",
    "        epsilon = min_epsilon + (max_epsilon - min_epsilon) * np.exp(-decay_rate * episode) # זו פונקציית הדעיכה של אפסילון \n",
    "        state = env.reset()#אתחול של הסביבה לכל אפיזודה ובעצם לגרום לסוכן להתחיל מאותה נקודה כל פעם שהוא נכשל או מצליח במשימה\n",
    "        total_reward = 0\n",
    "        done = False\n",
    "\n",
    "        for step in range(max_steps):##הגבלה של הצעדים שהסוכן יכול לעשות בעיקר כדי שימצא את הדרך היעילה ביותר ולמנוע ממנו לנוע בלופים אינסופיים\n",
    "            action = epsilon_greedy_policy(Qtable, state, epsilon)\n",
    "            new_state, reward, done = env.step(action)\n",
    "            Qtable[state][action] = Qtable[state][action] + learning_rate * (  \n",
    "                reward + gamma * max(Qtable[new_state]) - Qtable[state][action]\n",
    "            ) ## פונקציית Q שמעדכנים בעזרתה את הטבלה \n",
    "            total_reward += reward\n",
    "            state = new_state\n",
    "            if done: # פה בודקים אם הסוכן נפסל ,או עבר את המשחק בהצלחה אם כן תעבור לאפיזודה הבאה\n",
    "                break\n",
    "\n",
    "        total_rewards_per_episode.append(total_reward)\n",
    "\n",
    "    return Qtable, total_rewards_per_episode\n"
   ]
  },
  {
   "cell_type": "code",
   "execution_count": 5,
   "id": "40855257",
   "metadata": {},
   "outputs": [],
   "source": [
    "def run_single_episode(env, Q_table, max_steps=200):# זה כדי לראות איך הסוכן מבצע את המשימה אם נכשל או הצליח לפתור את המבוך\n",
    "    state = env.reset()\n",
    "    done = False\n",
    "\n",
    "    pygame.init()\n",
    "\n",
    "    CELL_SIZE = 80\n",
    "    ROWS, COLS = 15, 15\n",
    "    WIDTH, HEIGHT = COLS * CELL_SIZE, ROWS * CELL_SIZE\n",
    "    screen = pygame.display.set_mode((WIDTH, HEIGHT))\n",
    "    pygame.display.set_caption(\"Q-Learning Agent Evaluation\")\n",
    "    clock = pygame.time.Clock()\n",
    "\n",
    "    env.load_images()  \n",
    "\n",
    "    for _ in range(max_steps):\n",
    "        for event in pygame.event.get():\n",
    "            if event.type == pygame.QUIT:\n",
    "                pygame.quit()\n",
    "                sys.exit()\n",
    "\n",
    "        action = greedy_policy(Q_table,state)\n",
    "        state, reward, done = env.step(action)\n",
    "\n",
    "        env.render(screen)\n",
    "        pygame.display.flip()\n",
    "        clock.tick(4)\n",
    "\n",
    "        if done:\n",
    "            print(\"ההדגמה של הסוכן הסתיימה\")\n",
    "            pygame.time.wait(200)\n",
    "            break\n",
    "\n",
    "    pygame.quit()  \n"
   ]
  },
  {
   "cell_type": "code",
   "execution_count": 6,
   "id": "3703cd99",
   "metadata": {},
   "outputs": [],
   "source": [
    "def moving_average(data, window_size):##פה ספציפית נעזרנו באינטרנט וזו פונקציה ש\"מחליקה\" את הגרף שלנו של התגמול המצטבר כדי שיוצג קצת יותר טוב ויזואלית , זה הקו האדום בתרשימים בהמשך\n",
    "    return [np.mean(data[max(0, i - window_size):i + 1]) for i in range(len(data))]\n"
   ]
  },
  {
   "cell_type": "code",
   "execution_count": 7,
   "id": "2fc37b67",
   "metadata": {},
   "outputs": [],
   "source": [
    "def plot_rewards(rewards, window_size=10):# פונקציית הגרף שמוצג בהמשך \n",
    "    plt.figure(figsize=(10, 5))\n",
    "    plt.plot(rewards, label='Cumulative Reward', alpha=0.5)\n",
    "\n",
    "    smoothed = moving_average(rewards,window_size)\n",
    "    plt.plot(smoothed, label=f'Smoothed', color='red')\n",
    "\n",
    "    plt.xlabel('Episode')\n",
    "    plt.ylabel('Cumulative Reward')\n",
    "    plt.title('Learning Curve')\n",
    "    plt.legend()\n",
    "    plt.grid(True)\n",
    "    plt.show()"
   ]
  },
  {
   "cell_type": "markdown",
   "id": "d76a16c5",
   "metadata": {},
   "source": [
    "#### ניסיון פרמטרים התחלתיים\n",
    "#### אפיזודות 1500 ,קצב למידה 0.7 ,גאמא 0.95"
   ]
  },
  {
   "cell_type": "code",
   "execution_count": 8,
   "id": "afdbc7bf",
   "metadata": {},
   "outputs": [],
   "source": [
    "## פרמטרים\n",
    "n_training_episodes = 1500\n",
    "learning_rate = 0.7 \n",
    "max_steps = 500 \n",
    "gamma = 0.95\n",
    "max_epsilon = 1.0 \n",
    "min_epsilon = 0.05 \n",
    "decay_rate = 0.005"
   ]
  },
  {
   "cell_type": "code",
   "execution_count": 9,
   "id": "3218c5ce",
   "metadata": {},
   "outputs": [],
   "source": [
    "qtable_maze = create_qtable(possible_num_state,action_space)"
   ]
  },
  {
   "cell_type": "code",
   "execution_count": 10,
   "id": "efc4e3a1",
   "metadata": {},
   "outputs": [
    {
     "data": {
      "image/png": "[encoded data removed]",
      "text/plain": [
       "<Figure size 720x360 with 1 Axes>"
      ]
     },
     "metadata": {
      "needs_background": "light"
     },
     "output_type": "display_data"
    }
   ],
   "source": [
    "qtable_1, rewards_1 = train(n_training_episodes, min_epsilon, max_epsilon, decay_rate, env, max_steps,learning_rate,gamma, qtable_maze)# פה קראנו בעצם לפונקציה של האימון של הסוכן שלנו \n",
    "\n",
    "\n",
    "\n",
    "plot_rewards(rewards_1,window_size=60)## פלוט של הגרף של התגמול המצטבר בכל אפיזודה\n"
   ]
  },
  {
   "cell_type": "markdown",
   "id": "4536a633",
   "metadata": {},
   "source": [
    "חשוב לציין שאחרי המצגת של  ,שיפרנו את הקוד וקצת התוצאות השתנו \n"
   ]
  },
  {
   "cell_type": "code",
   "execution_count": 11,
   "id": "58b3041d",
   "metadata": {},
   "outputs": [
    {
     "name": "stdout",
     "output_type": "stream",
     "text": [
      "ההדגמה של הסוכן הסתיימה\n"
     ]
    }
   ],
   "source": [
    "run_single_episode(env, qtable_1) # זה כדי לראות איך הסוכן מבצע את המשימה\n"
   ]
  },
  {
   "cell_type": "markdown",
   "id": "9b657ff6",
   "metadata": {},
   "source": [
    "## פה בחלק הזה אנחנו בוחנים שילובים של פרמטרים נוספים"
   ]
  },
  {
   "cell_type": "markdown",
   "id": "1a268477",
   "metadata": {},
   "source": [
    "חשוב לציין שאנחנו יודעים שיכולנו לעשות גריד סרצ' אבל רצינו לראות ויזואלית וללמוד יותר דרך ניסוי וטעייה \n",
    "איך פרמטרים שונים משפיעים על הלמידת של הסוכן"
   ]
  },
  {
   "cell_type": "markdown",
   "id": "9fa85c2a",
   "metadata": {},
   "source": [
    "רצינו לראות איך קצב למידה מהיר יותר מהקודם ישפיע על כמות האפיזודות שנתנו לסוכן ללמוד "
   ]
  },
  {
   "cell_type": "markdown",
   "id": "4e3bf4dc",
   "metadata": {},
   "source": [
    "בנוסף לאחר ההצגה בכיתה מצאנו פרמטרים יותר טובים מאלה  שלמעלה \n",
    "\n",
    "\n",
    "אפסילון קצת יותר נמוך וקצב דעיכה טיפה יותר גבוה ,גורמים לכך שהסוכן לומד ומתייצב משמעותית הרבה יותר מהר "
   ]
  },
  {
   "cell_type": "markdown",
   "id": "3034c879",
   "metadata": {},
   "source": [
    "אנחנו משאירים את מספר האפיזודות לאימון 1500 בעיקר בגלל שאפשר ויזואלית לראות על הגרף את ההתייצבות של המודל ,בסוף נעשה מודל עם מינימום אפיזודות"
   ]
  },
  {
   "cell_type": "markdown",
   "id": "89ed9433",
   "metadata": {},
   "source": [
    "גאמא=0.95 ,קצב למידה =0.9,מינימום אפסילון אפשרי = 0.005 ,קצב דעיכה = 0.05"
   ]
  },
  {
   "cell_type": "code",
   "execution_count": 12,
   "id": "4289771a",
   "metadata": {},
   "outputs": [],
   "source": [
    "## פרמטרים\n",
    "n_training_episodes = 1500\n",
    "learning_rate = 0.9 \n",
    "max_steps = 350\n",
    "gamma = 0.95\n",
    "max_epsilon = 1.0 \n",
    "min_epsilon = 0.005 \n",
    "decay_rate = 0.05"
   ]
  },
  {
   "cell_type": "code",
   "execution_count": 13,
   "id": "8d2efd75",
   "metadata": {},
   "outputs": [],
   "source": [
    "qtable_maze_2 = create_qtable(possible_num_state,action_space)"
   ]
  },
  {
   "cell_type": "code",
   "execution_count": 14,
   "id": "adde154c",
   "metadata": {},
   "outputs": [
    {
     "data": {
      "image/png": "[encoded data removed]",
      "text/plain": [
       "<Figure size 720x360 with 1 Axes>"
      ]
     },
     "metadata": {
      "needs_background": "light"
     },
     "output_type": "display_data"
    }
   ],
   "source": [
    "qtable_2, rewards_2 = train(n_training_episodes, min_epsilon, max_epsilon, decay_rate, env, max_steps,learning_rate,gamma, qtable_maze_2)\n",
    "\n",
    "plot_rewards(rewards_2,window_size=60)\n"
   ]
  },
  {
   "cell_type": "markdown",
   "id": "a9f5741c",
   "metadata": {},
   "source": [
    "ניתן לראות שלאחר שינוי הפרמטרים וההבנה שלנו שהפרמטרים ההתחלתיים היו לא טובים מספיק ואופטימלים ,הסוכן מתייצב לאחר 200 פלוס מינוס אפיזודות"
   ]
  },
  {
   "cell_type": "markdown",
   "id": "29146026",
   "metadata": {},
   "source": [
    "### נבדוק עוד שילובים אפשריים "
   ]
  },
  {
   "cell_type": "markdown",
   "id": "de1e9551",
   "metadata": {},
   "source": [
    "גאמא =0.95 ,קצב למידה =0.1 "
   ]
  },
  {
   "cell_type": "code",
   "execution_count": 15,
   "id": "57fe1eb6",
   "metadata": {},
   "outputs": [],
   "source": [
    "## פרמטרים\n",
    "n_training_episodes = 1500\n",
    "learning_rate = 0.1 \n",
    "max_steps = 350\n",
    "gamma = 0.95\n",
    "max_epsilon = 1.0 \n",
    "min_epsilon = 0.005 \n",
    "decay_rate = 0.05"
   ]
  },
  {
   "cell_type": "code",
   "execution_count": 16,
   "id": "12ea8d51",
   "metadata": {},
   "outputs": [],
   "source": [
    "qtable_maze_3 = create_qtable(possible_num_state,action_space)"
   ]
  },
  {
   "cell_type": "code",
   "execution_count": 17,
   "id": "98c103ce",
   "metadata": {},
   "outputs": [
    {
     "data": {
      "image/png": "[encoded data removed]",
      "text/plain": [
       "<Figure size 720x360 with 1 Axes>"
      ]
     },
     "metadata": {
      "needs_background": "light"
     },
     "output_type": "display_data"
    }
   ],
   "source": [
    "qtable_3, rewards_3 = train(n_training_episodes, min_epsilon, max_epsilon, decay_rate, env, max_steps,learning_rate,gamma, qtable_maze_3)\n",
    "\n",
    "plot_rewards(rewards_3,window_size=60)\n"
   ]
  },
  {
   "cell_type": "markdown",
   "id": "6d0c0907",
   "metadata": {},
   "source": [
    "אפשר לראות פה שהסוכן באופן מאוד הגיוני לומד לאט ולוקח לו זמן רב להתייצב בגלל קצב הלמידה המואט שנקבע .\n",
    "\n"
   ]
  },
  {
   "cell_type": "markdown",
   "id": "7bc9bfa0",
   "metadata": {},
   "source": [
    "גאמא=0.9 קצב למידה = 0.9"
   ]
  },
  {
   "cell_type": "code",
   "execution_count": 18,
   "id": "8dfdba37",
   "metadata": {},
   "outputs": [],
   "source": [
    "## פרמטרים\n",
    "n_training_episodes = 1500\n",
    "learning_rate = 0.9 \n",
    "max_steps = 350\n",
    "gamma = 0.90\n",
    "max_epsilon = 1.0 \n",
    "min_epsilon = 0.005 \n",
    "decay_rate = 0.05"
   ]
  },
  {
   "cell_type": "code",
   "execution_count": 19,
   "id": "e4714d30",
   "metadata": {},
   "outputs": [],
   "source": [
    "qtable_maze_4 = create_qtable(possible_num_state,action_space)"
   ]
  },
  {
   "cell_type": "code",
   "execution_count": 20,
   "id": "18d5c50f",
   "metadata": {},
   "outputs": [
    {
     "data": {
      "image/png": "[encoded data removed]",
      "text/plain": [
       "<Figure size 720x360 with 1 Axes>"
      ]
     },
     "metadata": {
      "needs_background": "light"
     },
     "output_type": "display_data"
    }
   ],
   "source": [
    "qtable_4, rewards_4 = train(n_training_episodes, min_epsilon, max_epsilon, decay_rate, env, max_steps,learning_rate,gamma, qtable_maze_4)\n",
    "\n",
    "plot_rewards(rewards_4,window_size=30)\n"
   ]
  },
  {
   "cell_type": "markdown",
   "id": "ac6495a8",
   "metadata": {},
   "source": [
    "פה אפשר לראות שכאשר הגאמא נמוכה יותר הסוכן מתייצב קצת יותר מהר כ-180-200\n",
    "\n",
    "זאת אומרת ,להתחשב קצת קצת יותר בתגמולים המיידים ולא הרחוקים"
   ]
  },
  {
   "cell_type": "markdown",
   "id": "0cfedf45",
   "metadata": {},
   "source": [
    "## גאמא=0.99 ,קצב למידה = 0.9"
   ]
  },
  {
   "cell_type": "code",
   "execution_count": 21,
   "id": "27dd7932",
   "metadata": {},
   "outputs": [],
   "source": [
    "## פרמטרים\n",
    "n_training_episodes = 1500\n",
    "learning_rate = 0.9 \n",
    "max_steps = 350\n",
    "gamma = 0.99\n",
    "max_epsilon = 1.0 \n",
    "min_epsilon = 0.005 \n",
    "decay_rate = 0.05"
   ]
  },
  {
   "cell_type": "code",
   "execution_count": 22,
   "id": "f2f48f6f",
   "metadata": {},
   "outputs": [],
   "source": [
    "qtable_maze_5 = create_qtable(possible_num_state,action_space)"
   ]
  },
  {
   "cell_type": "code",
   "execution_count": 23,
   "id": "d61782e5",
   "metadata": {},
   "outputs": [
    {
     "data": {
      "image/png": "[encoded data removed]",
      "text/plain": [
       "<Figure size 720x360 with 1 Axes>"
      ]
     },
     "metadata": {
      "needs_background": "light"
     },
     "output_type": "display_data"
    }
   ],
   "source": [
    "qtable_5, rewards_5 = train(n_training_episodes, min_epsilon, max_epsilon, decay_rate, env, max_steps,learning_rate,gamma, qtable_maze_5)\n",
    "\n",
    "plot_rewards(rewards_5,window_size=30)\n"
   ]
  },
  {
   "cell_type": "markdown",
   "id": "41eaf7ea",
   "metadata": {},
   "source": [
    "להפתעתנו ,התוצאות של גאמא 0.99 ו0.9 דומות מאוד ! \n",
    "\n",
    "כאשר הסוכן מתייצב על כ -180-200 אפיזודות \n",
    "\n"
   ]
  },
  {
   "cell_type": "markdown",
   "id": "c1383540",
   "metadata": {},
   "source": [
    "#### לסיכום"
   ]
  },
  {
   "cell_type": "markdown",
   "id": "e15adceb",
   "metadata": {},
   "source": [
    "הפרמטרים שבחרנו הם \n",
    "\n",
    "אפיזודות =200\n",
    "\n",
    "קצב למידה =0.9\n",
    "\n",
    "מספר צעדים מקסימלי =350\n",
    "\n",
    "גאמא = 0.99\n",
    "\n",
    "אפסילון מינמלי = 0.005\n",
    "\n",
    "קצב דעיכה = 0.05\n",
    "\n",
    "\n",
    "הסוכן מתייצב על 200 אפיזודות ,קצב למידה גבוה ,גאמא 0.99 כדי להתחשב יותר בתגמולים שבעתיד הרחוק ופחות התגמולים המיידיים\n"
   ]
  },
  {
   "cell_type": "markdown",
   "id": "d3297ab9",
   "metadata": {},
   "source": [
    "## הטבלה האופטימלית "
   ]
  },
  {
   "cell_type": "code",
   "execution_count": 24,
   "id": "810a9337",
   "metadata": {},
   "outputs": [],
   "source": [
    "## פרמטרים\n",
    "n_training_episodes = 200\n",
    "learning_rate = 0.9 \n",
    "max_steps = 350\n",
    "gamma = 0.99\n",
    "max_epsilon = 1.0 \n",
    "min_epsilon = 0.005 \n",
    "decay_rate = 0.05"
   ]
  },
  {
   "cell_type": "code",
   "execution_count": 25,
   "id": "8547f54f",
   "metadata": {},
   "outputs": [],
   "source": [
    "final_qtable = create_qtable(possible_num_state,action_space)"
   ]
  },
  {
   "cell_type": "code",
   "execution_count": 26,
   "id": "91113247",
   "metadata": {},
   "outputs": [],
   "source": [
    "qtable_5, rewards_5 = train(n_training_episodes, min_epsilon, max_epsilon, decay_rate, env, max_steps,learning_rate,gamma, final_qtable)\n"
   ]
  },
  {
   "cell_type": "markdown",
   "id": "a8e1c48d",
   "metadata": {},
   "source": [
    "טבלה סופית :"
   ]
  },
  {
   "cell_type": "code",
   "execution_count": 27,
   "id": "db9ad78e",
   "metadata": {},
   "outputs": [
    {
     "data": {
      "text/html": [
       "<div>\n",
       "<style scoped>\n",
       "    .dataframe tbody tr th:only-of-type {\n",
       "        vertical-align: middle;\n",
       "    }\n",
       "\n",
       "    .dataframe tbody tr th {\n",
       "        vertical-align: top;\n",
       "    }\n",
       "\n",
       "    .dataframe thead th {\n",
       "        text-align: right;\n",
       "    }\n",
       "</style>\n",
       "<table border=\"1\" class=\"dataframe\">\n",
       "  <thead>\n",
       "    <tr style=\"text-align: right;\">\n",
       "      <th></th>\n",
       "      <th>0</th>\n",
       "      <th>1</th>\n",
       "      <th>2</th>\n",
       "      <th>3</th>\n",
       "    </tr>\n",
       "  </thead>\n",
       "  <tbody>\n",
       "    <tr>\n",
       "      <th>0</th>\n",
       "      <td>-4.507232</td>\n",
       "      <td>-4.489186</td>\n",
       "      <td>-4.493840</td>\n",
       "      <td>0.618111</td>\n",
       "    </tr>\n",
       "    <tr>\n",
       "      <th>1</th>\n",
       "      <td>-4.425672</td>\n",
       "      <td>-4.412084</td>\n",
       "      <td>-4.485331</td>\n",
       "      <td>0.725365</td>\n",
       "    </tr>\n",
       "    <tr>\n",
       "      <th>2</th>\n",
       "      <td>-4.388405</td>\n",
       "      <td>-4.354868</td>\n",
       "      <td>-4.401078</td>\n",
       "      <td>0.833702</td>\n",
       "    </tr>\n",
       "    <tr>\n",
       "      <th>3</th>\n",
       "      <td>0.305520</td>\n",
       "      <td>0.943133</td>\n",
       "      <td>-4.381970</td>\n",
       "      <td>-4.299493</td>\n",
       "    </tr>\n",
       "    <tr>\n",
       "      <th>4</th>\n",
       "      <td>-4.105493</td>\n",
       "      <td>-4.119539</td>\n",
       "      <td>-4.145551</td>\n",
       "      <td>-4.134383</td>\n",
       "    </tr>\n",
       "    <tr>\n",
       "      <th>...</th>\n",
       "      <td>...</td>\n",
       "      <td>...</td>\n",
       "      <td>...</td>\n",
       "      <td>...</td>\n",
       "    </tr>\n",
       "    <tr>\n",
       "      <th>184</th>\n",
       "      <td>0.000000</td>\n",
       "      <td>0.000000</td>\n",
       "      <td>0.000000</td>\n",
       "      <td>0.000000</td>\n",
       "    </tr>\n",
       "    <tr>\n",
       "      <th>185</th>\n",
       "      <td>0.000000</td>\n",
       "      <td>0.000000</td>\n",
       "      <td>0.000000</td>\n",
       "      <td>0.000000</td>\n",
       "    </tr>\n",
       "    <tr>\n",
       "      <th>186</th>\n",
       "      <td>0.000000</td>\n",
       "      <td>0.000000</td>\n",
       "      <td>0.000000</td>\n",
       "      <td>0.000000</td>\n",
       "    </tr>\n",
       "    <tr>\n",
       "      <th>187</th>\n",
       "      <td>0.000000</td>\n",
       "      <td>0.000000</td>\n",
       "      <td>0.000000</td>\n",
       "      <td>0.000000</td>\n",
       "    </tr>\n",
       "    <tr>\n",
       "      <th>188</th>\n",
       "      <td>0.000000</td>\n",
       "      <td>0.000000</td>\n",
       "      <td>0.000000</td>\n",
       "      <td>0.000000</td>\n",
       "    </tr>\n",
       "  </tbody>\n",
       "</table>\n",
       "<p>189 rows × 4 columns</p>\n",
       "</div>"
      ],
      "text/plain": [
       "            0         1         2         3\n",
       "0   -4.507232 -4.489186 -4.493840  0.618111\n",
       "1   -4.425672 -4.412084 -4.485331  0.725365\n",
       "2   -4.388405 -4.354868 -4.401078  0.833702\n",
       "3    0.305520  0.943133 -4.381970 -4.299493\n",
       "4   -4.105493 -4.119539 -4.145551 -4.134383\n",
       "..        ...       ...       ...       ...\n",
       "184  0.000000  0.000000  0.000000  0.000000\n",
       "185  0.000000  0.000000  0.000000  0.000000\n",
       "186  0.000000  0.000000  0.000000  0.000000\n",
       "187  0.000000  0.000000  0.000000  0.000000\n",
       "188  0.000000  0.000000  0.000000  0.000000\n",
       "\n",
       "[189 rows x 4 columns]"
      ]
     },
     "execution_count": 27,
     "metadata": {},
     "output_type": "execute_result"
    }
   ],
   "source": [
    "pd.DataFrame(qtable_5)"
   ]
  },
  {
   "cell_type": "code",
   "execution_count": 28,
   "id": "3a6465f1",
   "metadata": {},
   "outputs": [
    {
     "name": "stdout",
     "output_type": "stream",
     "text": [
      "ההדגמה של הסוכן הסתיימה\n"
     ]
    }
   ],
   "source": [
    "run_single_episode(env, qtable_5) # זה כדי לראות איך הסוכן מבצע את המשימה"
   ]
  },
  {
   "cell_type": "markdown",
   "id": "127337f5",
   "metadata": {},
   "source": [
    "## פה אנחנו מראים שהסוכן מצליח לפתור גם מבוכים שונים במבנה שלהם"
   ]
  },
  {
   "cell_type": "markdown",
   "id": "6f029c23",
   "metadata": {},
   "source": [
    "#### מבוך מספר 2"
   ]
  },
  {
   "cell_type": "code",
   "execution_count": 29,
   "id": "dd6864cc",
   "metadata": {},
   "outputs": [],
   "source": [
    "env2=Maze()"
   ]
  },
  {
   "cell_type": "code",
   "execution_count": 30,
   "id": "d26c1fee",
   "metadata": {},
   "outputs": [],
   "source": [
    "maze2 = np.array([\n",
    "    [1,1,1,1,1,1,1,1,1,1,1,1,1,1,1,1,1,1,1,1],\n",
    "    [1,0,0,0,0,0,1,0,0,0,0,0,1,0,0,0,0,0,0,1],\n",
    "    [1,0,1,1,1,0,1,0,1,1,1,0,1,0,1,1,1,1,0,1],\n",
    "    [1,0,1,2,1,0,1,0,1,2,1,0,1,0,1,2,1,0,0,1],\n",
    "    [1,0,0,0,0,0,1,0,0,0,0,0,1,0,0,0,0,0,1,1],\n",
    "    [1,1,1,0,1,1,1,1,1,0,1,1,1,1,1,0,1,1,1,1],\n",
    "    [1,0,0,0,0,0,0,0,1,0,0,0,0,0,1,0,0,0,0,1],\n",
    "    [1,0,1,1,1,1,1,0,1,1,1,1,1,0,1,1,1,1,0,1],\n",
    "    [1,0,1,0,0,0,1,0,0,0,0,0,1,0,0,0,1,0,0,1],\n",
    "    [1,0,1,0,1,0,1,1,1,2,1,1,1,0,1,0,1,0,1,1],\n",
    "    [1,0,1,0,1,0,0,0,0,0,0,0,0,0,1,0,1,0,0,1],\n",
    "    [1,0,1,0,1,1,1,1,1,1,1,1,1,0,1,0,1,1,0,1],\n",
    "    [1,0,0,0,1,0,0,0,0,0,0,0,1,0,1,0,0,0,0,1],\n",
    "    [1,1,1,0,1,0,1,1,1,1,1,0,1,0,1,1,1,1,0,1],\n",
    "    [1,0,0,0,1,0,1,0,0,0,1,0,1,0,0,0,0,1,0,1],\n",
    "    [1,0,1,1,1,0,1,0,1,0,1,0,1,1,1,1,0,1,0,1],\n",
    "    [1,0,1,2,0,0,1,0,1,0,1,0,0,0,0,1,0,0,0,1],\n",
    "    [1,0,1,1,1,1,1,0,1,0,1,1,1,1,0,1,1,1,0,1],\n",
    "    [1,0,0,0,0,0,0,0,1,0,0,0,0,2,0,0,0,0,0,1],\n",
    "    [1,1,1,1,1,1,1,1,1,1,1,1,1,1,1,1,1,1,1,1],\n",
    "])\n"
   ]
  },
  {
   "cell_type": "code",
   "execution_count": 31,
   "id": "53cf87f7",
   "metadata": {},
   "outputs": [],
   "source": [
    "env2.maze=maze2"
   ]
  },
  {
   "cell_type": "code",
   "execution_count": 32,
   "id": "f7963d18",
   "metadata": {},
   "outputs": [],
   "source": [
    "env2=Maze(maze2)"
   ]
  },
  {
   "cell_type": "code",
   "execution_count": 33,
   "id": "0bcc307a",
   "metadata": {},
   "outputs": [],
   "source": [
    "## פרמטרים\n",
    "n_training_episodes = 200\n",
    "learning_rate = 0.9 \n",
    "max_steps = 350\n",
    "gamma = 0.99\n",
    "max_epsilon = 1.0 \n",
    "min_epsilon = 0.005 \n",
    "decay_rate = 0.05"
   ]
  },
  {
   "cell_type": "code",
   "execution_count": 34,
   "id": "2eba945f",
   "metadata": {},
   "outputs": [],
   "source": [
    "qtable_maze_test_2 = create_qtable(possible_num_state,action_space)\n",
    "qtable_test_2, rewards_test_2 = train(n_training_episodes, min_epsilon, max_epsilon, decay_rate, env2, max_steps,learning_rate,gamma, qtable_maze_test_2)\n"
   ]
  },
  {
   "cell_type": "code",
   "execution_count": 35,
   "id": "8dd11a52",
   "metadata": {},
   "outputs": [
    {
     "name": "stdout",
     "output_type": "stream",
     "text": [
      "ההדגמה של הסוכן הסתיימה\n"
     ]
    }
   ],
   "source": [
    "run_single_episode(env2, qtable_test_2) # זה כדי לראות איך הסוכן מבצע את המשימה\n"
   ]
  },
  {
   "cell_type": "markdown",
   "id": "ed2ac18f",
   "metadata": {},
   "source": [
    "#### מבוך מספר 3 "
   ]
  },
  {
   "cell_type": "code",
   "execution_count": 36,
   "id": "25a4483f",
   "metadata": {},
   "outputs": [],
   "source": [
    "env3=Maze()"
   ]
  },
  {
   "cell_type": "code",
   "execution_count": 37,
   "id": "bf00662c",
   "metadata": {},
   "outputs": [],
   "source": [
    "maze3 = np.array([\n",
    "    [1,1,1,1,1,1,1,1,1,1,1,1,1,1,1,1,1,1,1,1],\n",
    "    [1,0,0,0,0,0,0,0,0,0,0,0,0,1,0,0,0,0,0,1],\n",
    "    [1,0,1,1,1,1,1,1,1,1,1,1,0,1,0,1,1,1,0,1],\n",
    "    [1,0,1,0,0,0,0,0,0,0,0,1,0,1,0,1,2,1,0,1],\n",
    "    [1,0,1,0,1,1,1,1,1,1,0,1,0,1,0,1,1,1,0,1],\n",
    "    [1,0,1,0,1,2,0,0,0,1,0,0,0,2,0,0,0,1,0,1],\n",
    "    [1,0,1,0,1,1,1,1,0,1,1,1,1,1,1,1,0,1,0,1],\n",
    "    [1,0,1,0,0,0,0,1,0,0,0,0,0,0,0,1,0,1,0,1],\n",
    "    [1,0,1,1,1,1,0,1,1,1,1,1,1,1,0,1,0,1,0,1],\n",
    "    [1,0,0,0,0,1,0,0,0,1,0,0,0,1,0,1,0,0,0,1],\n",
    "    [1,1,1,1,0,1,1,1,0,1,1,1,0,1,1,1,1,1,0,1],\n",
    "    [1,0,0,0,0,1,0,0,0,1,0,2,0,1,0,0,0,0,0,1],\n",
    "    [1,0,1,1,1,1,0,1,1,1,0,1,1,1,0,1,1,1,0,1],\n",
    "    [1,0,1,0,0,0,0,1,0,0,0,1,0,0,0,1,0,0,0,1],\n",
    "    [1,0,1,0,1,1,0,1,0,1,0,1,0,1,0,1,0,1,0,1],\n",
    "    [1,0,0,0,1,2,0,0,0,1,0,0,0,1,0,0,0,1,0,1],\n",
    "    [1,1,1,1,1,1,1,1,0,1,1,1,0,1,1,1,1,1,0,1],\n",
    "    [1,0,0,0,0,0,0,1,0,0,0,1,0,0,0,0,0,0,0,1],\n",
    "    [1,0,0,0,2,0,0,1,0,0,0,1,0,0,0,2,0,0,0,1],\n",
    "    [1,1,1,1,1,1,1,1,1,1,1,1,1,1,1,1,1,1,1,1],\n",
    "])\n"
   ]
  },
  {
   "cell_type": "code",
   "execution_count": 38,
   "id": "1d2bf643",
   "metadata": {},
   "outputs": [],
   "source": [
    "env3.maze=maze3"
   ]
  },
  {
   "cell_type": "code",
   "execution_count": 39,
   "id": "74e4612b",
   "metadata": {},
   "outputs": [],
   "source": [
    "env3=Maze(maze3)"
   ]
  },
  {
   "cell_type": "code",
   "execution_count": 40,
   "id": "ef3fc4ab",
   "metadata": {},
   "outputs": [],
   "source": [
    "## פרמטרים\n",
    "n_training_episodes = 200\n",
    "learning_rate = 0.9 \n",
    "max_steps = 350\n",
    "gamma = 0.99\n",
    "max_epsilon = 1.0 \n",
    "min_epsilon = 0.005 \n",
    "decay_rate = 0.05"
   ]
  },
  {
   "cell_type": "code",
   "execution_count": 41,
   "id": "6c16c590",
   "metadata": {},
   "outputs": [],
   "source": [
    "qtable_maze_test_3 = create_qtable(possible_num_state,action_space)\n",
    "qtable_test_3, rewards_test_3 = train(n_training_episodes, min_epsilon, max_epsilon, decay_rate, env3, max_steps,learning_rate,gamma, qtable_maze_test_3)\n"
   ]
  },
  {
   "cell_type": "code",
   "execution_count": 42,
   "id": "139ce62f",
   "metadata": {},
   "outputs": [
    {
     "name": "stdout",
     "output_type": "stream",
     "text": [
      "ההדגמה של הסוכן הסתיימה\n"
     ]
    }
   ],
   "source": [
    "run_single_episode(env3, qtable_test_3) # זה כדי לראות איך הסוכן מבצע את המשימה\n"
   ]
  },
  {
   "cell_type": "markdown",
   "id": "13903f5f",
   "metadata": {},
   "source": [
    "## הקוד הבא שומש בעיקר למצגת ולדוח"
   ]
  },
  {
   "cell_type": "code",
   "execution_count": 43,
   "id": "7029f6f0",
   "metadata": {},
   "outputs": [
    {
     "data": {
      "text/html": [
       "<div>\n",
       "<style scoped>\n",
       "    .dataframe tbody tr th:only-of-type {\n",
       "        vertical-align: middle;\n",
       "    }\n",
       "\n",
       "    .dataframe tbody tr th {\n",
       "        vertical-align: top;\n",
       "    }\n",
       "\n",
       "    .dataframe thead th {\n",
       "        text-align: right;\n",
       "    }\n",
       "</style>\n",
       "<table border=\"1\" class=\"dataframe\">\n",
       "  <thead>\n",
       "    <tr style=\"text-align: right;\">\n",
       "      <th></th>\n",
       "      <th>0</th>\n",
       "      <th>1</th>\n",
       "      <th>2</th>\n",
       "      <th>3</th>\n",
       "    </tr>\n",
       "  </thead>\n",
       "  <tbody>\n",
       "    <tr>\n",
       "      <th>0</th>\n",
       "      <td>0.0</td>\n",
       "      <td>0.0</td>\n",
       "      <td>0.0</td>\n",
       "      <td>0.0</td>\n",
       "    </tr>\n",
       "    <tr>\n",
       "      <th>1</th>\n",
       "      <td>0.0</td>\n",
       "      <td>0.0</td>\n",
       "      <td>0.0</td>\n",
       "      <td>0.0</td>\n",
       "    </tr>\n",
       "    <tr>\n",
       "      <th>2</th>\n",
       "      <td>0.0</td>\n",
       "      <td>0.0</td>\n",
       "      <td>0.0</td>\n",
       "      <td>0.0</td>\n",
       "    </tr>\n",
       "    <tr>\n",
       "      <th>3</th>\n",
       "      <td>0.0</td>\n",
       "      <td>0.0</td>\n",
       "      <td>0.0</td>\n",
       "      <td>0.0</td>\n",
       "    </tr>\n",
       "    <tr>\n",
       "      <th>4</th>\n",
       "      <td>0.0</td>\n",
       "      <td>0.0</td>\n",
       "      <td>0.0</td>\n",
       "      <td>0.0</td>\n",
       "    </tr>\n",
       "    <tr>\n",
       "      <th>...</th>\n",
       "      <td>...</td>\n",
       "      <td>...</td>\n",
       "      <td>...</td>\n",
       "      <td>...</td>\n",
       "    </tr>\n",
       "    <tr>\n",
       "      <th>181</th>\n",
       "      <td>0.0</td>\n",
       "      <td>0.0</td>\n",
       "      <td>0.0</td>\n",
       "      <td>0.0</td>\n",
       "    </tr>\n",
       "    <tr>\n",
       "      <th>182</th>\n",
       "      <td>0.0</td>\n",
       "      <td>0.0</td>\n",
       "      <td>0.0</td>\n",
       "      <td>0.0</td>\n",
       "    </tr>\n",
       "    <tr>\n",
       "      <th>183</th>\n",
       "      <td>0.0</td>\n",
       "      <td>0.0</td>\n",
       "      <td>0.0</td>\n",
       "      <td>0.0</td>\n",
       "    </tr>\n",
       "    <tr>\n",
       "      <th>184</th>\n",
       "      <td>0.0</td>\n",
       "      <td>0.0</td>\n",
       "      <td>0.0</td>\n",
       "      <td>0.0</td>\n",
       "    </tr>\n",
       "    <tr>\n",
       "      <th>185</th>\n",
       "      <td>0.0</td>\n",
       "      <td>0.0</td>\n",
       "      <td>0.0</td>\n",
       "      <td>0.0</td>\n",
       "    </tr>\n",
       "  </tbody>\n",
       "</table>\n",
       "<p>186 rows × 4 columns</p>\n",
       "</div>"
      ],
      "text/plain": [
       "       0    1    2    3\n",
       "0    0.0  0.0  0.0  0.0\n",
       "1    0.0  0.0  0.0  0.0\n",
       "2    0.0  0.0  0.0  0.0\n",
       "3    0.0  0.0  0.0  0.0\n",
       "4    0.0  0.0  0.0  0.0\n",
       "..   ...  ...  ...  ...\n",
       "181  0.0  0.0  0.0  0.0\n",
       "182  0.0  0.0  0.0  0.0\n",
       "183  0.0  0.0  0.0  0.0\n",
       "184  0.0  0.0  0.0  0.0\n",
       "185  0.0  0.0  0.0  0.0\n",
       "\n",
       "[186 rows x 4 columns]"
      ]
     },
     "execution_count": 43,
     "metadata": {},
     "output_type": "execute_result"
    }
   ],
   "source": [
    "table_zeros= create_qtable(186,4)\n",
    "table_df=pd.DataFrame(table_zeros) # דוגמא לאיך ה q-table ההתחלתי נראה ובכללי איך אתחול הטבלה נראה\n",
    "table_df"
   ]
  },
  {
   "cell_type": "code",
   "execution_count": 44,
   "id": "7072188d",
   "metadata": {},
   "outputs": [
    {
     "data": {
      "image/png": "[encoded data removed]",
      "text/plain": [
       "<Figure size 720x432 with 1 Axes>"
      ]
     },
     "metadata": {
      "needs_background": "light"
     },
     "output_type": "display_data"
    }
   ],
   "source": [
    "\n",
    "max_epsilon = 1.0 \n",
    "min_epsilon = 0.05 \n",
    "decay_rate = 0.0005     \n",
    "episodes = np.arange(0, 1500) \n",
    "\n",
    "# פונקציית דעיכה אקספוננציאלית של האפסילון שלנו\n",
    "epsilon_values = min_epsilon + (max_epsilon - min_epsilon) * np.exp(-decay_rate * episodes)\n",
    "\n",
    "\n",
    "plt.figure(figsize=(10, 6))\n",
    "plt.plot(episodes, epsilon_values, label='Epsilon Decay', color='blue')\n",
    "plt.title('Epsilon Decay Over Episodes')\n",
    "plt.xlabel('Episode')\n",
    "plt.ylabel('Epsilon')\n",
    "plt.grid(True)\n",
    "plt.tight_layout()\n",
    "plt.show()"
   ]
  },
  {
   "cell_type": "code",
   "execution_count": 45,
   "id": "ba207c1a",
   "metadata": {},
   "outputs": [
    {
     "data": {
      "image/png": "[encoded data removed]",
      "text/plain": [
       "<Figure size 720x432 with 1 Axes>"
      ]
     },
     "metadata": {
      "needs_background": "light"
     },
     "output_type": "display_data"
    }
   ],
   "source": [
    "\n",
    "max_epsilon = 1.0 \n",
    "min_epsilon = 0.005 \n",
    "decay_rate = 0.05     \n",
    "episodes = np.arange(0, 1500) \n",
    "\n",
    "# פונקציית דעיכה אקספוננציאלית של האפסילון שלנו\n",
    "epsilon_values = min_epsilon + (max_epsilon - min_epsilon) * np.exp(-decay_rate * episodes)\n",
    "\n",
    "\n",
    "plt.figure(figsize=(10, 6))\n",
    "plt.plot(episodes, epsilon_values, label='Epsilon Decay', color='blue')\n",
    "plt.title('Epsilon Decay Over Episodes')\n",
    "plt.xlabel('Episode')\n",
    "plt.ylabel('Epsilon')\n",
    "plt.grid(True)\n",
    "plt.tight_layout()\n",
    "plt.show()"
   ]
  }
 ],
 "metadata": {
  "kernelspec": {
   "display_name": "Python 3",
   "language": "python",
   "name": "python3"
  },
  "language_info": {
   "codemirror_mode": {
    "name": "ipython",
    "version": 3
   },
   "file_extension": ".py",
   "mimetype": "text/x-python",
   "name": "python",
   "nbconvert_exporter": "python",
   "pygments_lexer": "ipython3",
   "version": "3.10.2"
  }
 },
 "nbformat": 4,
 "nbformat_minor": 5
}
